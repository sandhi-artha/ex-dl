{
 "cells": [
  {
   "attachments": {},
   "cell_type": "markdown",
   "metadata": {},
   "source": [
    "# Create a subset of COCO ann file"
   ]
  },
  {
   "cell_type": "code",
   "execution_count": 1,
   "metadata": {},
   "outputs": [
    {
     "name": "stdout",
     "output_type": "stream",
     "text": [
      "d:\\Projects\\python\\ex-dl\\6\n"
     ]
    }
   ],
   "source": [
    "%cd .."
   ]
  },
  {
   "cell_type": "code",
   "execution_count": 3,
   "metadata": {},
   "outputs": [],
   "source": [
    "from pycocotools.coco import COCO\n",
    "import os, json\n",
    "\n",
    "from src.cfg import cfg"
   ]
  },
  {
   "cell_type": "code",
   "execution_count": 4,
   "metadata": {},
   "outputs": [
    {
     "name": "stdout",
     "output_type": "stream",
     "text": [
      "../data/coco/annotations/instances_val2017.json\n",
      "loading annotations into memory...\n",
      "Done (t=0.53s)\n",
      "creating index...\n",
      "index created!\n",
      "total imgs: 5000, anns: 36781\n"
     ]
    }
   ],
   "source": [
    "print(cfg.label_fp)\n",
    "coco_gt = COCO(cfg.label_fp)\n",
    "print(f'total imgs: {len(coco_gt.imgs)}, anns: {len(coco_gt.anns)}')"
   ]
  },
  {
   "cell_type": "code",
   "execution_count": 5,
   "metadata": {},
   "outputs": [],
   "source": [
    "def create_coco_subset(coco, img_ids):\n",
    "    # has 3 keys: 'images', 'annotations' and 'categories'\n",
    "    sub_coco = {\n",
    "        'images': [],\n",
    "        'annotations' : [],\n",
    "        'categories' : [],\n",
    "    }\n",
    "\n",
    "    # doesn't change format from ori json, it's just how coco returns the value in dict\n",
    "    sub_coco['categories'] = [cat for key,cat in coco.cats.items()]\n",
    "\n",
    "    # parse and append annotations\n",
    "    for img_id in img_ids:\n",
    "        img_info = coco.imgs[img_id]\n",
    "        anns_ids = coco.getAnnIds(img_id)\n",
    "        img_anns = coco.loadAnns(anns_ids)  # returns list of dict\n",
    "\n",
    "        sub_coco['images'].append(img_info)\n",
    "        for img_ann in img_anns:\n",
    "            sub_coco['annotations'].append(img_ann)\n",
    "    \n",
    "    return sub_coco"
   ]
  },
  {
   "attachments": {},
   "cell_type": "markdown",
   "metadata": {},
   "source": [
    "take 20% of it"
   ]
  },
  {
   "cell_type": "code",
   "execution_count": 6,
   "metadata": {},
   "outputs": [
    {
     "name": "stdout",
     "output_type": "stream",
     "text": [
      "dict_keys(['images', 'annotations', 'categories'])\n"
     ]
    }
   ],
   "source": [
    "sub_image_ids = coco_gt.getImgIds()[:1000]\n",
    "sub_coco = create_coco_subset(coco_gt, sub_image_ids)\n",
    "print(sub_coco.keys())"
   ]
  },
  {
   "cell_type": "code",
   "execution_count": 7,
   "metadata": {},
   "outputs": [],
   "source": [
    "sub_save_fp = cfg.label_fp.replace('instances_val2017','sub_val2017')\n",
    "with open(sub_save_fp, 'w') as f:\n",
    "    json.dump(sub_coco, f)"
   ]
  },
  {
   "attachments": {},
   "cell_type": "markdown",
   "metadata": {},
   "source": [
    "test it out"
   ]
  },
  {
   "cell_type": "code",
   "execution_count": 8,
   "metadata": {},
   "outputs": [
    {
     "name": "stdout",
     "output_type": "stream",
     "text": [
      "loading annotations into memory...\n",
      "Done (t=0.18s)\n",
      "creating index...\n",
      "index created!\n",
      "total imgs: 1000, anns: 7740\n"
     ]
    }
   ],
   "source": [
    "sub_coco = None\n",
    "sub_coco = COCO(sub_save_fp)\n",
    "print(f'total imgs: {len(sub_coco.imgs)}, anns: {len(sub_coco.anns)}')"
   ]
  }
 ],
 "metadata": {
  "kernelspec": {
   "display_name": "raven-env",
   "language": "python",
   "name": "python3"
  },
  "language_info": {
   "codemirror_mode": {
    "name": "ipython",
    "version": 3
   },
   "file_extension": ".py",
   "mimetype": "text/x-python",
   "name": "python",
   "nbconvert_exporter": "python",
   "pygments_lexer": "ipython3",
   "version": "3.9.6"
  },
  "orig_nbformat": 4,
  "vscode": {
   "interpreter": {
    "hash": "cd9be25baa2ad8ea1ceccc4ac9726fd9c7fb4f1760cd9272713d13955723a596"
   }
  }
 },
 "nbformat": 4,
 "nbformat_minor": 2
}
